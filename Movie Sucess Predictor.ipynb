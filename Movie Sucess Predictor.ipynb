{
 "cells": [
  {
   "cell_type": "code",
   "execution_count": 95,
   "id": "cba0ebf7",
   "metadata": {},
   "outputs": [
    {
     "name": "stderr",
     "output_type": "stream",
     "text": [
      "[nltk_data] Downloading package punkt to C:\\Users\\Sai\n",
      "[nltk_data]     Charan\\AppData\\Roaming\\nltk_data...\n",
      "[nltk_data]   Package punkt is already up-to-date!\n",
      "[nltk_data] Downloading package stopwords to C:\\Users\\Sai\n",
      "[nltk_data]     Charan\\AppData\\Roaming\\nltk_data...\n",
      "[nltk_data]   Package stopwords is already up-to-date!\n"
     ]
    },
    {
     "data": {
      "text/plain": [
       "True"
      ]
     },
     "execution_count": 95,
     "metadata": {},
     "output_type": "execute_result"
    }
   ],
   "source": [
    "import pandas as pd\n",
    "import tensorflow as tf\n",
    "import gensim\n",
    "from gensim.models import Word2Vec\n",
    "from tensorflow import keras\n",
    "from keras.optimizers import Adam\n",
    "from sklearn.model_selection import train_test_split\n",
    "from sklearn.feature_extraction.text import TfidfVectorizer, CountVectorizer\n",
    "from sklearn.metrics import classification_report\n",
    "from nltk.tokenize import word_tokenize\n",
    "from nltk.corpus import stopwords\n",
    "from sklearn.preprocessing import LabelEncoder\n",
    "import nltk\n",
    "import numpy as np\n",
    "from sklearn.preprocessing import StandardScaler, MinMaxScaler\n",
    "nltk.download('punkt')\n",
    "nltk.download('stopwords')"
   ]
  },
  {
   "cell_type": "code",
   "execution_count": 56,
   "id": "85bda237",
   "metadata": {},
   "outputs": [
    {
     "data": {
      "text/html": [
       "<div>\n",
       "<style scoped>\n",
       "    .dataframe tbody tr th:only-of-type {\n",
       "        vertical-align: middle;\n",
       "    }\n",
       "\n",
       "    .dataframe tbody tr th {\n",
       "        vertical-align: top;\n",
       "    }\n",
       "\n",
       "    .dataframe thead th {\n",
       "        text-align: right;\n",
       "    }\n",
       "</style>\n",
       "<table border=\"1\" class=\"dataframe\">\n",
       "  <thead>\n",
       "    <tr style=\"text-align: right;\">\n",
       "      <th></th>\n",
       "      <th>Movie Name</th>\n",
       "      <th>Movie Description</th>\n",
       "      <th>Movie Rating</th>\n",
       "      <th>Cast_1</th>\n",
       "      <th>Cast_2</th>\n",
       "      <th>Cast_3</th>\n",
       "      <th>Director</th>\n",
       "      <th>Budget</th>\n",
       "      <th>Collection</th>\n",
       "      <th>Verdict</th>\n",
       "    </tr>\n",
       "  </thead>\n",
       "  <tbody>\n",
       "    <tr>\n",
       "      <th>0</th>\n",
       "      <td>PK</td>\n",
       "      <td>An alien on Earth loses the only device he can...</td>\n",
       "      <td>8.1</td>\n",
       "      <td>Aamir Khan</td>\n",
       "      <td>Anushka Sharma</td>\n",
       "      <td>Sanjay Dutt</td>\n",
       "      <td>Rajkumar Hirani</td>\n",
       "      <td>85.0</td>\n",
       "      <td>792.0</td>\n",
       "      <td>All Time Blockbuster</td>\n",
       "    </tr>\n",
       "    <tr>\n",
       "      <th>1</th>\n",
       "      <td>Happy New Year</td>\n",
       "      <td>A gang of amateur dancers takes part in a danc...</td>\n",
       "      <td>5.0</td>\n",
       "      <td>Shah Rukh Khan</td>\n",
       "      <td>Deepika Padukone</td>\n",
       "      <td>Abhishek Bachchan</td>\n",
       "      <td>Farah Khan</td>\n",
       "      <td>150.0</td>\n",
       "      <td>397.0</td>\n",
       "      <td>Hit</td>\n",
       "    </tr>\n",
       "    <tr>\n",
       "      <th>2</th>\n",
       "      <td>Kick</td>\n",
       "      <td>An adrenaline junkie walks away from a whirlwi...</td>\n",
       "      <td>6.0</td>\n",
       "      <td>Salman Khan</td>\n",
       "      <td>Jacqueline Fernandez</td>\n",
       "      <td>Nawazuddin Siddiqui</td>\n",
       "      <td>Sajid Nadiadwala</td>\n",
       "      <td>140.0</td>\n",
       "      <td>378.0</td>\n",
       "      <td>Super Hit</td>\n",
       "    </tr>\n",
       "    <tr>\n",
       "      <th>3</th>\n",
       "      <td>Bang Bang</td>\n",
       "      <td>A young bank receptionist gets mixed up with R...</td>\n",
       "      <td>5.6</td>\n",
       "      <td>Hrithik Roshan</td>\n",
       "      <td>Katrina Kaif</td>\n",
       "      <td>Pawan Malhotra</td>\n",
       "      <td>Siddharth Anand</td>\n",
       "      <td>140.0</td>\n",
       "      <td>340.0</td>\n",
       "      <td>Super Hit</td>\n",
       "    </tr>\n",
       "    <tr>\n",
       "      <th>4</th>\n",
       "      <td>Singham Returns</td>\n",
       "      <td>Owing to the wrongdoings affiliated with evils...</td>\n",
       "      <td>5.7</td>\n",
       "      <td>Ajay Devgn</td>\n",
       "      <td>Kareena Kapoor</td>\n",
       "      <td>Amole Gupte</td>\n",
       "      <td>Rohit Shetty</td>\n",
       "      <td>80.0</td>\n",
       "      <td>216.0</td>\n",
       "      <td>Super Hit</td>\n",
       "    </tr>\n",
       "    <tr>\n",
       "      <th>...</th>\n",
       "      <td>...</td>\n",
       "      <td>...</td>\n",
       "      <td>...</td>\n",
       "      <td>...</td>\n",
       "      <td>...</td>\n",
       "      <td>...</td>\n",
       "      <td>...</td>\n",
       "      <td>...</td>\n",
       "      <td>...</td>\n",
       "      <td>...</td>\n",
       "    </tr>\n",
       "    <tr>\n",
       "      <th>668</th>\n",
       "      <td>NTR Kathanayakudu</td>\n",
       "      <td>Based on the journey of the legendary Telugu a...</td>\n",
       "      <td>5.8</td>\n",
       "      <td>Nandamuri Balakrishna</td>\n",
       "      <td>Vidya Balan</td>\n",
       "      <td>Kaikala Satyanarayana</td>\n",
       "      <td>Radha Krishna Jagarlamudi</td>\n",
       "      <td>1.0</td>\n",
       "      <td>NaN</td>\n",
       "      <td>Hit</td>\n",
       "    </tr>\n",
       "    <tr>\n",
       "      <th>669</th>\n",
       "      <td>Love Action Drama</td>\n",
       "      <td>A man goes through all kinds of action to impr...</td>\n",
       "      <td>5.2</td>\n",
       "      <td>Nivin Pauly</td>\n",
       "      <td>Nayanthara</td>\n",
       "      <td>Aju Varghese</td>\n",
       "      <td>Dhyan Sreenivasan</td>\n",
       "      <td>1.0</td>\n",
       "      <td>6.0</td>\n",
       "      <td>Super Hit</td>\n",
       "    </tr>\n",
       "    <tr>\n",
       "      <th>670</th>\n",
       "      <td>Driving Licence</td>\n",
       "      <td>A famous actor needs to renew his driver's lic...</td>\n",
       "      <td>7.2</td>\n",
       "      <td>Prithviraj Sukumaran</td>\n",
       "      <td>Suraj Venjaramoodu</td>\n",
       "      <td>Miya George</td>\n",
       "      <td>Jean Paul Lal</td>\n",
       "      <td>7.0</td>\n",
       "      <td>1.0</td>\n",
       "      <td>Disaster</td>\n",
       "    </tr>\n",
       "    <tr>\n",
       "      <th>671</th>\n",
       "      <td>Mr. Local</td>\n",
       "      <td>A happy-go-lucky guy lands in trouble after he...</td>\n",
       "      <td>3.3</td>\n",
       "      <td>Sivakarthikeyan</td>\n",
       "      <td>Nayanthara</td>\n",
       "      <td>Radhika Sarathkumar</td>\n",
       "      <td>M. Rajesh</td>\n",
       "      <td>3.0</td>\n",
       "      <td>4.0</td>\n",
       "      <td>Blockbuster</td>\n",
       "    </tr>\n",
       "    <tr>\n",
       "      <th>672</th>\n",
       "      <td>Super Deluxe</td>\n",
       "      <td>An unfaithful newly-wed wife, an estranged fat...</td>\n",
       "      <td>8.2</td>\n",
       "      <td>Vijay Sethupathi</td>\n",
       "      <td>Fahadh Faasil</td>\n",
       "      <td>Samantha Ruth Prabhu</td>\n",
       "      <td>Thiagarajan Kumararaja</td>\n",
       "      <td>2.0</td>\n",
       "      <td>NaN</td>\n",
       "      <td>Average</td>\n",
       "    </tr>\n",
       "  </tbody>\n",
       "</table>\n",
       "<p>673 rows × 10 columns</p>\n",
       "</div>"
      ],
      "text/plain": [
       "            Movie Name                                  Movie Description  \\\n",
       "0                   PK  An alien on Earth loses the only device he can...   \n",
       "1       Happy New Year  A gang of amateur dancers takes part in a danc...   \n",
       "2                 Kick  An adrenaline junkie walks away from a whirlwi...   \n",
       "3            Bang Bang  A young bank receptionist gets mixed up with R...   \n",
       "4      Singham Returns  Owing to the wrongdoings affiliated with evils...   \n",
       "..                 ...                                                ...   \n",
       "668  NTR Kathanayakudu  Based on the journey of the legendary Telugu a...   \n",
       "669  Love Action Drama  A man goes through all kinds of action to impr...   \n",
       "670    Driving Licence  A famous actor needs to renew his driver's lic...   \n",
       "671          Mr. Local  A happy-go-lucky guy lands in trouble after he...   \n",
       "672       Super Deluxe  An unfaithful newly-wed wife, an estranged fat...   \n",
       "\n",
       "     Movie Rating                 Cast_1                Cast_2  \\\n",
       "0             8.1             Aamir Khan        Anushka Sharma   \n",
       "1             5.0         Shah Rukh Khan      Deepika Padukone   \n",
       "2             6.0            Salman Khan  Jacqueline Fernandez   \n",
       "3             5.6         Hrithik Roshan          Katrina Kaif   \n",
       "4             5.7             Ajay Devgn        Kareena Kapoor   \n",
       "..            ...                    ...                   ...   \n",
       "668           5.8  Nandamuri Balakrishna           Vidya Balan   \n",
       "669           5.2            Nivin Pauly            Nayanthara   \n",
       "670           7.2   Prithviraj Sukumaran    Suraj Venjaramoodu   \n",
       "671           3.3        Sivakarthikeyan            Nayanthara   \n",
       "672           8.2       Vijay Sethupathi         Fahadh Faasil   \n",
       "\n",
       "                    Cast_3                   Director  Budget  Collection  \\\n",
       "0              Sanjay Dutt            Rajkumar Hirani    85.0       792.0   \n",
       "1        Abhishek Bachchan                 Farah Khan   150.0       397.0   \n",
       "2      Nawazuddin Siddiqui           Sajid Nadiadwala   140.0       378.0   \n",
       "3           Pawan Malhotra            Siddharth Anand   140.0       340.0   \n",
       "4              Amole Gupte               Rohit Shetty    80.0       216.0   \n",
       "..                     ...                        ...     ...         ...   \n",
       "668  Kaikala Satyanarayana  Radha Krishna Jagarlamudi     1.0         NaN   \n",
       "669           Aju Varghese          Dhyan Sreenivasan     1.0         6.0   \n",
       "670            Miya George              Jean Paul Lal     7.0         1.0   \n",
       "671    Radhika Sarathkumar                  M. Rajesh     3.0         4.0   \n",
       "672   Samantha Ruth Prabhu     Thiagarajan Kumararaja     2.0         NaN   \n",
       "\n",
       "                  Verdict  \n",
       "0    All Time Blockbuster  \n",
       "1                     Hit  \n",
       "2               Super Hit  \n",
       "3               Super Hit  \n",
       "4               Super Hit  \n",
       "..                    ...  \n",
       "668                   Hit  \n",
       "669             Super Hit  \n",
       "670              Disaster  \n",
       "671           Blockbuster  \n",
       "672               Average  \n",
       "\n",
       "[673 rows x 10 columns]"
      ]
     },
     "execution_count": 56,
     "metadata": {},
     "output_type": "execute_result"
    }
   ],
   "source": [
    "df = pd.read_excel(r\"E:\\jupyter_notebook\\Datasets\\Movie Performance Predictor\\Movie_Performance_Data.xlsx\")\n",
    "df"
   ]
  },
  {
   "cell_type": "code",
   "execution_count": 80,
   "id": "906cc19a",
   "metadata": {},
   "outputs": [
    {
     "data": {
      "text/plain": [
       "Movie Name           0\n",
       "Movie Description    0\n",
       "Movie Rating         0\n",
       "Cast_1               0\n",
       "Cast_2               0\n",
       "Cast_3               0\n",
       "Director             0\n",
       "Budget               0\n",
       "Collection           0\n",
       "Verdict              0\n",
       "dtype: int64"
      ]
     },
     "execution_count": 80,
     "metadata": {},
     "output_type": "execute_result"
    }
   ],
   "source": [
    "df.isna().sum()"
   ]
  },
  {
   "cell_type": "code",
   "execution_count": 57,
   "id": "bbaeaff5",
   "metadata": {},
   "outputs": [],
   "source": [
    "df = df.dropna()"
   ]
  },
  {
   "cell_type": "code",
   "execution_count": 73,
   "id": "471ca9da",
   "metadata": {},
   "outputs": [],
   "source": [
    "x = df['Movie Description']\n",
    "y = df.Budget"
   ]
  },
  {
   "cell_type": "code",
   "execution_count": 74,
   "id": "e2e0f0d2",
   "metadata": {},
   "outputs": [],
   "source": [
    "x_train, x_test, y_train, y_test = train_test_split(x,y, random_state=42)"
   ]
  },
  {
   "cell_type": "code",
   "execution_count": 79,
   "id": "e44b53e8",
   "metadata": {},
   "outputs": [
    {
     "name": "stdout",
     "output_type": "stream",
     "text": [
      "object\n",
      "float64\n"
     ]
    }
   ],
   "source": [
    "print(x_train.dtypes)\n",
    "print(y_train.dtypes)"
   ]
  },
  {
   "cell_type": "code",
   "execution_count": 75,
   "id": "9b549ad9",
   "metadata": {},
   "outputs": [
    {
     "data": {
      "text/plain": [
       "80     Arjun Reddy, a short-tempered house surgeon, g...\n",
       "602    A daring robbery in a jewellery showroom kicks...\n",
       "443    After the events of Stree, the town of Chander...\n",
       "540    Vijay Rajendran is a happy to-go lucky man. Th...\n",
       "504    The lives of two brothers from a humble backgr...\n",
       "                             ...                        \n",
       "100    A detective is hungry for a challenging case t...\n",
       "139    Anand and Anasuya meet each other on a train r...\n",
       "371    After being conned by the woman he loves, a fi...\n",
       "536    When his friends in Punjab struggle to clear t...\n",
       "135    Following the attack on the Indian Embassy in ...\n",
       "Name: Movie Description, Length: 389, dtype: object"
      ]
     },
     "execution_count": 75,
     "metadata": {},
     "output_type": "execute_result"
    }
   ],
   "source": [
    "x_train"
   ]
  },
  {
   "cell_type": "code",
   "execution_count": 76,
   "id": "8f4a4797",
   "metadata": {},
   "outputs": [
    {
     "name": "stdout",
     "output_type": "stream",
     "text": [
      "object\n",
      "376    A tough police officer sets out to track down ...\n",
      "125    An intense battle breaks out between an evil s...\n",
      "6      A military officer attempts to hunt down a ter...\n",
      "200    Bharat, a young graduate who becomes the C.M o...\n",
      "122    When a small village near a forest is under th...\n",
      "Name: Movie Description, dtype: object\n"
     ]
    }
   ],
   "source": [
    "print(x_test.dtype)  # Should be 'object' or 'string'\n",
    "print(x_test.head()) "
   ]
  },
  {
   "cell_type": "code",
   "execution_count": 136,
   "id": "de2939ac",
   "metadata": {},
   "outputs": [],
   "source": [
    "vectoriser = TfidfVectorizer(max_features=100000)\n",
    "x_train_vec = vectoriser.fit_transform(x_train)\n",
    "x_test_vec = vectoriser.transform(x_test)\n",
    "x_train_vec = x_train_vec.toarray() \n",
    "x_test_vec = x_test_vec.toarray()"
   ]
  },
  {
   "cell_type": "code",
   "execution_count": 130,
   "id": "e24866ec",
   "metadata": {},
   "outputs": [],
   "source": [
    "scaler = MinMaxScaler()\n",
    "y_train_scaled = y_train/max(y)\n",
    "y_test_scaled = y_test/max(y)"
   ]
  },
  {
   "cell_type": "code",
   "execution_count": 131,
   "id": "636fe4a1",
   "metadata": {},
   "outputs": [
    {
     "data": {
      "text/plain": [
       "600.0"
      ]
     },
     "execution_count": 131,
     "metadata": {},
     "output_type": "execute_result"
    }
   ],
   "source": [
    "max(y)"
   ]
  },
  {
   "cell_type": "code",
   "execution_count": 104,
   "id": "628f0085",
   "metadata": {},
   "outputs": [],
   "source": [
    "optimiser = Adam(learning_rate=0.01)"
   ]
  },
  {
   "cell_type": "code",
   "execution_count": 139,
   "id": "abf66dfd",
   "metadata": {
    "scrolled": true
   },
   "outputs": [
    {
     "name": "stdout",
     "output_type": "stream",
     "text": [
      "Epoch 1/100\n",
      "13/13 [==============================] - 4s 35ms/step - loss: 6.6532 - mean_absolute_error: 0.4331\n",
      "Epoch 2/100\n",
      "13/13 [==============================] - 0s 32ms/step - loss: 3.7798 - mean_absolute_error: 0.4183\n",
      "Epoch 3/100\n",
      "13/13 [==============================] - 0s 33ms/step - loss: 2.6839 - mean_absolute_error: 0.3919\n",
      "Epoch 4/100\n",
      "13/13 [==============================] - 0s 33ms/step - loss: 2.2001 - mean_absolute_error: 0.3707\n",
      "Epoch 5/100\n",
      "13/13 [==============================] - 0s 33ms/step - loss: 1.9004 - mean_absolute_error: 0.3495\n",
      "Epoch 6/100\n",
      "13/13 [==============================] - 0s 33ms/step - loss: 1.6648 - mean_absolute_error: 0.3346\n",
      "Epoch 7/100\n",
      "13/13 [==============================] - 0s 34ms/step - loss: 1.4570 - mean_absolute_error: 0.3088\n",
      "Epoch 8/100\n",
      "13/13 [==============================] - 0s 32ms/step - loss: 1.2944 - mean_absolute_error: 0.3008\n",
      "Epoch 9/100\n",
      "13/13 [==============================] - 0s 33ms/step - loss: 1.1560 - mean_absolute_error: 0.2793\n",
      "Epoch 10/100\n",
      "13/13 [==============================] - 0s 33ms/step - loss: 1.0427 - mean_absolute_error: 0.2635\n",
      "Epoch 11/100\n",
      "13/13 [==============================] - 0s 33ms/step - loss: 0.9428 - mean_absolute_error: 0.2473\n",
      "Epoch 12/100\n",
      "13/13 [==============================] - 0s 36ms/step - loss: 0.8631 - mean_absolute_error: 0.2403\n",
      "Epoch 13/100\n",
      "13/13 [==============================] - 0s 33ms/step - loss: 0.7940 - mean_absolute_error: 0.2294\n",
      "Epoch 14/100\n",
      "13/13 [==============================] - 0s 33ms/step - loss: 0.7259 - mean_absolute_error: 0.1993\n",
      "Epoch 15/100\n",
      "13/13 [==============================] - 0s 32ms/step - loss: 0.6814 - mean_absolute_error: 0.1992\n",
      "Epoch 16/100\n",
      "13/13 [==============================] - 0s 32ms/step - loss: 0.6337 - mean_absolute_error: 0.1785\n",
      "Epoch 17/100\n",
      "13/13 [==============================] - 0s 33ms/step - loss: 0.6035 - mean_absolute_error: 0.1740\n",
      "Epoch 18/100\n",
      "13/13 [==============================] - 0s 35ms/step - loss: 0.5869 - mean_absolute_error: 0.1722\n",
      "Epoch 19/100\n",
      "13/13 [==============================] - 0s 35ms/step - loss: 0.5753 - mean_absolute_error: 0.1707\n",
      "Epoch 20/100\n",
      "13/13 [==============================] - 0s 33ms/step - loss: 0.5486 - mean_absolute_error: 0.1409\n",
      "Epoch 21/100\n",
      "13/13 [==============================] - 0s 34ms/step - loss: 0.5253 - mean_absolute_error: 0.1407\n",
      "Epoch 22/100\n",
      "13/13 [==============================] - 0s 32ms/step - loss: 0.4965 - mean_absolute_error: 0.1321\n",
      "Epoch 23/100\n",
      "13/13 [==============================] - 0s 35ms/step - loss: 0.4687 - mean_absolute_error: 0.1316\n",
      "Epoch 24/100\n",
      "13/13 [==============================] - 0s 34ms/step - loss: 0.4657 - mean_absolute_error: 0.1291\n",
      "Epoch 25/100\n",
      "13/13 [==============================] - 0s 33ms/step - loss: 0.4707 - mean_absolute_error: 0.1168\n",
      "Epoch 26/100\n",
      "13/13 [==============================] - 0s 32ms/step - loss: 0.4500 - mean_absolute_error: 0.1090\n",
      "Epoch 27/100\n",
      "13/13 [==============================] - 0s 32ms/step - loss: 0.4213 - mean_absolute_error: 0.1045\n",
      "Epoch 28/100\n",
      "13/13 [==============================] - 0s 36ms/step - loss: 0.4028 - mean_absolute_error: 0.1115\n",
      "Epoch 29/100\n",
      "13/13 [==============================] - 0s 37ms/step - loss: 0.3845 - mean_absolute_error: 0.1054\n",
      "Epoch 30/100\n",
      "13/13 [==============================] - 0s 35ms/step - loss: 0.3746 - mean_absolute_error: 0.0977\n",
      "Epoch 31/100\n",
      "13/13 [==============================] - 1s 42ms/step - loss: 0.3635 - mean_absolute_error: 0.0927\n",
      "Epoch 32/100\n",
      "13/13 [==============================] - 0s 36ms/step - loss: 0.3607 - mean_absolute_error: 0.0969\n",
      "Epoch 33/100\n",
      "13/13 [==============================] - 0s 34ms/step - loss: 0.3535 - mean_absolute_error: 0.0929\n",
      "Epoch 34/100\n",
      "13/13 [==============================] - 0s 35ms/step - loss: 0.3542 - mean_absolute_error: 0.0877\n",
      "Epoch 35/100\n",
      "13/13 [==============================] - 0s 33ms/step - loss: 0.3619 - mean_absolute_error: 0.0885\n",
      "Epoch 36/100\n",
      "13/13 [==============================] - 0s 33ms/step - loss: 0.3525 - mean_absolute_error: 0.0869\n",
      "Epoch 37/100\n",
      "13/13 [==============================] - 0s 31ms/step - loss: 0.3365 - mean_absolute_error: 0.0915\n",
      "Epoch 38/100\n",
      "13/13 [==============================] - 0s 32ms/step - loss: 0.3130 - mean_absolute_error: 0.0788\n",
      "Epoch 39/100\n",
      "13/13 [==============================] - 0s 33ms/step - loss: 0.2999 - mean_absolute_error: 0.0900\n",
      "Epoch 40/100\n",
      "13/13 [==============================] - 0s 31ms/step - loss: 0.2887 - mean_absolute_error: 0.0774\n",
      "Epoch 41/100\n",
      "13/13 [==============================] - 0s 31ms/step - loss: 0.2883 - mean_absolute_error: 0.0779\n",
      "Epoch 42/100\n",
      "13/13 [==============================] - 0s 30ms/step - loss: 0.2864 - mean_absolute_error: 0.0789\n",
      "Epoch 43/100\n",
      "13/13 [==============================] - 0s 32ms/step - loss: 0.2797 - mean_absolute_error: 0.0713\n",
      "Epoch 44/100\n",
      "13/13 [==============================] - 0s 31ms/step - loss: 0.2701 - mean_absolute_error: 0.0711\n",
      "Epoch 45/100\n",
      "13/13 [==============================] - 0s 31ms/step - loss: 0.2591 - mean_absolute_error: 0.0760\n",
      "Epoch 46/100\n",
      "13/13 [==============================] - 0s 34ms/step - loss: 0.2461 - mean_absolute_error: 0.0702\n",
      "Epoch 47/100\n",
      "13/13 [==============================] - 0s 32ms/step - loss: 0.2416 - mean_absolute_error: 0.0746\n",
      "Epoch 48/100\n",
      "13/13 [==============================] - 0s 33ms/step - loss: 0.2483 - mean_absolute_error: 0.0715\n",
      "Epoch 49/100\n",
      "13/13 [==============================] - 0s 32ms/step - loss: 0.2530 - mean_absolute_error: 0.0644\n",
      "Epoch 50/100\n",
      "13/13 [==============================] - 0s 31ms/step - loss: 0.2401 - mean_absolute_error: 0.0661\n",
      "Epoch 51/100\n",
      "13/13 [==============================] - 0s 32ms/step - loss: 0.2205 - mean_absolute_error: 0.0688\n",
      "Epoch 52/100\n",
      "13/13 [==============================] - 0s 30ms/step - loss: 0.2201 - mean_absolute_error: 0.0648\n",
      "Epoch 53/100\n",
      "13/13 [==============================] - 0s 32ms/step - loss: 0.2413 - mean_absolute_error: 0.0643\n",
      "Epoch 54/100\n",
      "13/13 [==============================] - 0s 31ms/step - loss: 0.2587 - mean_absolute_error: 0.0677\n",
      "Epoch 55/100\n",
      "13/13 [==============================] - 0s 31ms/step - loss: 0.2649 - mean_absolute_error: 0.0669\n",
      "Epoch 56/100\n",
      "13/13 [==============================] - 0s 31ms/step - loss: 0.2621 - mean_absolute_error: 0.0671\n",
      "Epoch 57/100\n",
      "13/13 [==============================] - 0s 31ms/step - loss: 0.2481 - mean_absolute_error: 0.0566\n",
      "Epoch 58/100\n",
      "13/13 [==============================] - 0s 34ms/step - loss: 0.2333 - mean_absolute_error: 0.0640\n",
      "Epoch 59/100\n",
      "13/13 [==============================] - 0s 32ms/step - loss: 0.2228 - mean_absolute_error: 0.0667\n",
      "Epoch 60/100\n",
      "13/13 [==============================] - 0s 31ms/step - loss: 0.2060 - mean_absolute_error: 0.0586\n",
      "Epoch 61/100\n",
      "13/13 [==============================] - 0s 31ms/step - loss: 0.2023 - mean_absolute_error: 0.0642\n",
      "Epoch 62/100\n",
      "13/13 [==============================] - 0s 31ms/step - loss: 0.2047 - mean_absolute_error: 0.0646\n",
      "Epoch 63/100\n",
      "13/13 [==============================] - 0s 35ms/step - loss: 0.1991 - mean_absolute_error: 0.0610\n",
      "Epoch 64/100\n",
      "13/13 [==============================] - 0s 37ms/step - loss: 0.1910 - mean_absolute_error: 0.0578\n",
      "Epoch 65/100\n",
      "13/13 [==============================] - 0s 35ms/step - loss: 0.1917 - mean_absolute_error: 0.0615\n",
      "Epoch 66/100\n",
      "13/13 [==============================] - 0s 34ms/step - loss: 0.1856 - mean_absolute_error: 0.0625\n",
      "Epoch 67/100\n",
      "13/13 [==============================] - 0s 36ms/step - loss: 0.1756 - mean_absolute_error: 0.0603\n",
      "Epoch 68/100\n",
      "13/13 [==============================] - 0s 35ms/step - loss: 0.1706 - mean_absolute_error: 0.0587\n",
      "Epoch 69/100\n",
      "13/13 [==============================] - 0s 35ms/step - loss: 0.1703 - mean_absolute_error: 0.0577\n",
      "Epoch 70/100\n",
      "13/13 [==============================] - 0s 35ms/step - loss: 0.1785 - mean_absolute_error: 0.0628\n",
      "Epoch 71/100\n",
      "13/13 [==============================] - 0s 32ms/step - loss: 0.1830 - mean_absolute_error: 0.0591\n",
      "Epoch 72/100\n",
      "13/13 [==============================] - 0s 32ms/step - loss: 0.1921 - mean_absolute_error: 0.0615\n",
      "Epoch 73/100\n",
      "13/13 [==============================] - 0s 32ms/step - loss: 0.1961 - mean_absolute_error: 0.0603\n",
      "Epoch 74/100\n"
     ]
    },
    {
     "name": "stdout",
     "output_type": "stream",
     "text": [
      "13/13 [==============================] - 0s 37ms/step - loss: 0.1948 - mean_absolute_error: 0.0576\n",
      "Epoch 75/100\n",
      "13/13 [==============================] - 0s 38ms/step - loss: 0.1841 - mean_absolute_error: 0.0588\n",
      "Epoch 76/100\n",
      "13/13 [==============================] - 0s 36ms/step - loss: 0.1854 - mean_absolute_error: 0.0588\n",
      "Epoch 77/100\n",
      "13/13 [==============================] - 0s 36ms/step - loss: 0.1916 - mean_absolute_error: 0.0621\n",
      "Epoch 78/100\n",
      "13/13 [==============================] - 0s 36ms/step - loss: 0.1914 - mean_absolute_error: 0.0621\n",
      "Epoch 79/100\n",
      "13/13 [==============================] - 0s 35ms/step - loss: 0.1909 - mean_absolute_error: 0.0604\n",
      "Epoch 80/100\n",
      "13/13 [==============================] - 0s 36ms/step - loss: 0.1871 - mean_absolute_error: 0.0578\n",
      "Epoch 81/100\n",
      "13/13 [==============================] - 0s 36ms/step - loss: 0.1889 - mean_absolute_error: 0.0602\n",
      "Epoch 82/100\n",
      "13/13 [==============================] - 0s 34ms/step - loss: 0.1782 - mean_absolute_error: 0.0641\n",
      "Epoch 83/100\n",
      "13/13 [==============================] - 0s 34ms/step - loss: 0.1589 - mean_absolute_error: 0.0527\n",
      "Epoch 84/100\n",
      "13/13 [==============================] - 0s 34ms/step - loss: 0.1473 - mean_absolute_error: 0.0575\n",
      "Epoch 85/100\n",
      "13/13 [==============================] - 0s 35ms/step - loss: 0.1386 - mean_absolute_error: 0.0539\n",
      "Epoch 86/100\n",
      "13/13 [==============================] - 0s 33ms/step - loss: 0.1288 - mean_absolute_error: 0.0560\n",
      "Epoch 87/100\n",
      "13/13 [==============================] - 0s 33ms/step - loss: 0.1164 - mean_absolute_error: 0.0535\n",
      "Epoch 88/100\n",
      "13/13 [==============================] - 0s 31ms/step - loss: 0.1188 - mean_absolute_error: 0.0549\n",
      "Epoch 89/100\n",
      "13/13 [==============================] - 0s 32ms/step - loss: 0.1357 - mean_absolute_error: 0.0576\n",
      "Epoch 90/100\n",
      "13/13 [==============================] - 0s 32ms/step - loss: 0.1375 - mean_absolute_error: 0.0583\n",
      "Epoch 91/100\n",
      "13/13 [==============================] - 0s 32ms/step - loss: 0.1288 - mean_absolute_error: 0.0517\n",
      "Epoch 92/100\n",
      "13/13 [==============================] - 0s 38ms/step - loss: 0.1195 - mean_absolute_error: 0.0550\n",
      "Epoch 93/100\n",
      "13/13 [==============================] - 0s 32ms/step - loss: 0.1319 - mean_absolute_error: 0.0551\n",
      "Epoch 94/100\n",
      "13/13 [==============================] - 0s 32ms/step - loss: 0.1615 - mean_absolute_error: 0.0565\n",
      "Epoch 95/100\n",
      "13/13 [==============================] - 0s 31ms/step - loss: 0.1725 - mean_absolute_error: 0.0577\n",
      "Epoch 96/100\n",
      "13/13 [==============================] - 0s 32ms/step - loss: 0.1668 - mean_absolute_error: 0.0525\n",
      "Epoch 97/100\n",
      "13/13 [==============================] - 0s 32ms/step - loss: 0.1574 - mean_absolute_error: 0.0501\n",
      "Epoch 98/100\n",
      "13/13 [==============================] - 0s 32ms/step - loss: 0.1579 - mean_absolute_error: 0.0550\n",
      "Epoch 99/100\n",
      "13/13 [==============================] - 0s 32ms/step - loss: 0.1664 - mean_absolute_error: 0.0570\n",
      "Epoch 100/100\n",
      "13/13 [==============================] - 0s 31ms/step - loss: 0.1638 - mean_absolute_error: 0.0582\n"
     ]
    },
    {
     "data": {
      "text/plain": [
       "<keras.callbacks.History at 0x20e066afe90>"
      ]
     },
     "execution_count": 139,
     "metadata": {},
     "output_type": "execute_result"
    }
   ],
   "source": [
    "model = keras.Sequential([\n",
    "    keras.layers.Dense(512, activation='relu',kernel_regularizer=keras.regularizers.l2(0.01)),\n",
    "    keras.layers.BatchNormalization(),\n",
    "    keras.layers.Dropout(0.2),\n",
    "    keras.layers.Dense(256, activation='relu'),\n",
    "    keras.layers.BatchNormalization(),\n",
    "    keras.layers.Dropout(0.2),\n",
    "    keras.layers.Dense(128, activation='relu'),\n",
    "    keras.layers.BatchNormalization(),\n",
    "    keras.layers.Dropout(0.2),\n",
    "    keras.layers.Dense(64, activation='relu'),\n",
    "    keras.layers.BatchNormalization(),\n",
    "    keras.layers.Dropout(0.2),\n",
    "    keras.layers.Dense(32, activation='relu'),\n",
    "    keras.layers.BatchNormalization(),\n",
    "    keras.layers.Dropout(0.2),\n",
    "    keras.layers.Dense(1, activation='sigmoid')\n",
    "])\n",
    "\n",
    "model.compile(optimizer='adam', loss='mean_squared_error', metrics=['mean_absolute_error'])\n",
    "model.fit(x_train_vec, y_train_scaled, epochs=100)"
   ]
  },
  {
   "cell_type": "code",
   "execution_count": 140,
   "id": "29140e4c",
   "metadata": {},
   "outputs": [
    {
     "name": "stdout",
     "output_type": "stream",
     "text": [
      "5/5 [==============================] - 0s 5ms/step - loss: 0.1634 - mean_absolute_error: 0.0592\n"
     ]
    },
    {
     "data": {
      "text/plain": [
       "[0.16339154541492462, 0.05919862166047096]"
      ]
     },
     "execution_count": 140,
     "metadata": {},
     "output_type": "execute_result"
    }
   ],
   "source": [
    "model.evaluate(x_test_vec, y_test_scaled)"
   ]
  },
  {
   "cell_type": "code",
   "execution_count": 141,
   "id": "9a917d1b",
   "metadata": {},
   "outputs": [
    {
     "name": "stdout",
     "output_type": "stream",
     "text": [
      "<class 'numpy.ndarray'>\n",
      "float64\n"
     ]
    }
   ],
   "source": [
    "print(type(x_test_vec))  # Should be a numpy array or list\n",
    "print(x_test_vec.dtype)  # Should be float32 or float64"
   ]
  },
  {
   "cell_type": "code",
   "execution_count": 142,
   "id": "91a10862",
   "metadata": {},
   "outputs": [
    {
     "name": "stdout",
     "output_type": "stream",
     "text": [
      "5/5 [==============================] - 0s 4ms/step\n"
     ]
    }
   ],
   "source": [
    "y_pred = model.predict(x_test_vec)\n",
    "y_pred_org = y_pred * max(y)\n",
    "y_test_org = y_test * max(y)"
   ]
  },
  {
   "cell_type": "code",
   "execution_count": 150,
   "id": "6f3aef98",
   "metadata": {},
   "outputs": [
    {
     "data": {
      "text/plain": [
       "array([[32.45253 ],\n",
       "       [42.6081  ],\n",
       "       [13.538986],\n",
       "       [26.8942  ],\n",
       "       [33.275017],\n",
       "       [21.886946],\n",
       "       [20.593136],\n",
       "       [15.936045],\n",
       "       [27.63697 ],\n",
       "       [18.815783]], dtype=float32)"
      ]
     },
     "execution_count": 150,
     "metadata": {},
     "output_type": "execute_result"
    }
   ],
   "source": [
    "y_pred_org[:10]"
   ]
  },
  {
   "cell_type": "code",
   "execution_count": 151,
   "id": "c7cf5874",
   "metadata": {},
   "outputs": [
    {
     "data": {
      "text/plain": [
       "376    23.0\n",
       "125    50.0\n",
       "6      70.0\n",
       "200    70.0\n",
       "122    25.0\n",
       "653     4.0\n",
       "463    30.0\n",
       "324     1.0\n",
       "225    10.0\n",
       "583     1.0\n",
       "Name: Budget, dtype: float64"
      ]
     },
     "execution_count": 151,
     "metadata": {},
     "output_type": "execute_result"
    }
   ],
   "source": [
    "y_test[:10]"
   ]
  },
  {
   "cell_type": "code",
   "execution_count": null,
   "id": "19ed486a",
   "metadata": {},
   "outputs": [],
   "source": []
  }
 ],
 "metadata": {
  "kernelspec": {
   "display_name": "Python 3 (ipykernel)",
   "language": "python",
   "name": "python3"
  },
  "language_info": {
   "codemirror_mode": {
    "name": "ipython",
    "version": 3
   },
   "file_extension": ".py",
   "mimetype": "text/x-python",
   "name": "python",
   "nbconvert_exporter": "python",
   "pygments_lexer": "ipython3",
   "version": "3.11.1"
  }
 },
 "nbformat": 4,
 "nbformat_minor": 5
}
